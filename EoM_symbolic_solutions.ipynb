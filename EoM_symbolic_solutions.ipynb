{
 "cells": [
  {
   "cell_type": "code",
   "execution_count": 1,
   "metadata": {
    "id": "-dA4YaHWiitt"
   },
   "outputs": [],
   "source": [
    "## https://sal.aalto.fi/publications/pdf-files/eluu11_public.pdf\n",
    "## SYMBOLIC CALCULATION\n",
    "import sympy as sym\n",
    "import numpy as np\n",
    "from sympy import *\n",
    "from sympy.physics.units import speed_of_light, meter, second\n",
    "from sympy.physics.units import convert_to\n",
    "from sympy.physics.units import ampere, gram, second, kilogram, newton, convert_to\n",
    "import scipy.optimize"
   ]
  },
  {
   "cell_type": "code",
   "execution_count": 2,
   "metadata": {
    "id": "eSR6KyRqim2S"
   },
   "outputs": [],
   "source": [
    "##DEFINING CONSTANTS\n",
    "gravity = sym.Symbol('g', real=True) #gravitational acceleration\n",
    "mass = sym.Symbol('m', real=True) #mass of quadcopter\n",
    "Fg = sym.Matrix([0,0,gravity*mass]) #Global force of gravity\n",
    "\n",
    "## Inertias\n",
    "Ixx, Iyy, Izz = sym.symbols('I_xx I_yy I_zz', real=True)\n",
    "I = sym.Matrix([[Ixx, 0, 0],\n",
    "                [0, Iyy, 0],\n",
    "                [0, 0, Izz]])\n",
    "\n",
    "Im = sym.Symbol('I_m', real=True) # Motor+propellor Inertia\n",
    "\n",
    "#Distance of rotors from CoG\n",
    "l = sym.Symbol('l', real=True)\n",
    "## Rotor characteristics\n",
    "rotorLiftConstant = sym.Symbol('k', real=True)\n",
    "rotorDragConstant = sym.Symbol('b', real=True)\n"
   ]
  },
  {
   "cell_type": "code",
   "execution_count": 3,
   "metadata": {
    "id": "lmxVWekenWWt"
   },
   "outputs": [],
   "source": [
    "## INITIAL VARIABLES\n",
    "x,y,z = sym.symbols('x y z', real=True)\n",
    "positions = sym.Matrix([x,y,z]) #X,Y,Z\n",
    "\n",
    "dx,dy,dz = sym.symbols('v_x v_y v_z', real=True)\n",
    "velocities = sym.Matrix([dx,dy,dz]) #dX, dY, dZ\n",
    "\n",
    "phi,theta,psi = sym.symbols('phi theta psi', real=True)\n",
    "angles = sym.Matrix([phi,theta,psi]) #Inertial Angles\n",
    "\n",
    "Wx,Wy,Wz = sym.symbols('omega_phi omega_theta, omega_psi', real=True) #Angular velocities\n",
    "angularVelocities = sym.Matrix([Wx, Wy, Wz])\n",
    "\n",
    "Wm1, Wm2, Wm3, Wm4 = sym.symbols('W_m1, W_m2, W_m3, W_m4', real=True,positive=True)\n",
    "rotorW = sym.Matrix([Wm1, Wm2, Wm3, Wm4]) #Initial angular spin rates\n",
    "T1, T2, T3, T4 = sym.symbols('tau_m1, tau_m2, tau_m3, tau_m4', real=True)\n",
    "motorTorques = sym.Matrix([T1,T2,T3,T4]) #Commanded Motor Torques"
   ]
  },
  {
   "cell_type": "code",
   "execution_count": 4,
   "metadata": {
    "id": "dBVjsGeY86OQ"
   },
   "outputs": [],
   "source": [
    "## Linear rotation matrix construction\n",
    "def getRotationMatrices(angles):\n",
    "  phi = angles[0]\n",
    "  theta = angles[1]\n",
    "  psi = angles[2]\n",
    "  Rx = sym.Matrix([[1,            0,             0],\n",
    "                  [0, sym.cos(phi), -sym.sin(phi)],\n",
    "                  [0, sym.sin(phi),  sym.cos(phi)]])\n",
    "  Ry = sym.Matrix([[ sym.cos(theta), 0, sym.sin(theta)],\n",
    "                  [              0, 1,              0],\n",
    "                  [-sym.sin(theta), 0, sym.cos(theta)]])\n",
    "  Rz = sym.Matrix([[sym.cos(psi), -sym.sin(psi), 0],\n",
    "                  [sym.sin(psi),  sym.cos(psi), 0],\n",
    "                  [           0,             0, 1]])\n",
    "  RtoG = Rz @ Ry @ Rx ## Rotate to Global\n",
    "\n",
    "\n",
    "  ## Angular Rotation Matrix\n",
    "  ex = sym.Matrix([[1], [0], [0]])\n",
    "  ey = sym.Matrix([[0], [1], [0]])\n",
    "  ez = sym.Matrix([[0], [0], [1]])\n",
    "  RAtoB = sym.Matrix.hstack(ex, Rx.T @ ey, (Ry @ Rx).T @ ez)\n",
    "\n",
    "  return RtoG, RAtoB\n"
   ]
  },
  {
   "cell_type": "code",
   "execution_count": 5,
   "metadata": {
    "colab": {
     "base_uri": "https://localhost:8080/"
    },
    "id": "KyqnBXXkAhoG",
    "outputId": "e89fa941-d3f8-4d6f-afa5-cd339b8e6040"
   },
   "outputs": [
    {
     "name": "stdout",
     "output_type": "stream",
     "text": [
      "(Matrix([\n",
      "[                                        0],\n",
      "[                                        0],\n",
      "[k*(W_m1**2 + W_m2**2 + W_m3**2 + W_m4**2)]]), Matrix([\n",
      "[          k*l*(-W_m2**2 + W_m4**2)],\n",
      "[          k*l*(-W_m1**2 + W_m3**2)],\n",
      "[-tau_m1 + tau_m2 - tau_m3 + tau_m4]]), Matrix([\n",
      "[(-W_m1**2*b + tau_m1)/I_m],\n",
      "[(-W_m2**2*b + tau_m2)/I_m],\n",
      "[(-W_m3**2*b + tau_m3)/I_m],\n",
      "[(-W_m4**2*b + tau_m4)/I_m]]))\n"
     ]
    }
   ],
   "source": [
    "#### MOTOR HANDLING\n",
    "def symSum(vector):\n",
    "  sum = 0\n",
    "  for i in vector:\n",
    "    sum = sum + i\n",
    "  return sum\n",
    "\n",
    "def getRotorAccelerations(rotor_angular_velocity,commanded_motor_torques):\n",
    "  b = rotorDragConstant\n",
    "  dragComponent = rotor_angular_velocity.applyfunc(lambda x: x**2 * b)\n",
    "  motorComponent = commanded_motor_torques\n",
    "  dWm = (motorComponent - dragComponent) / Im\n",
    "  return dWm #Rotor acceleration\n",
    "\n",
    "def getRotorForces(rotor_angular_velocity, commanded_rotor_torques):\n",
    "  Wm1 = rotor_angular_velocity[0]\n",
    "  Wm2 = rotor_angular_velocity[1]\n",
    "  Wm3 = rotor_angular_velocity[2]\n",
    "  Wm4 = rotor_angular_velocity[3]\n",
    "\n",
    "  k = rotorLiftConstant\n",
    "  b = rotorDragConstant\n",
    "  individualThrusts = rotorW.applyfunc(lambda x: x**2 * k)\n",
    "  thrust = sym.simplify(symSum(individualThrusts))#Calculating lift from blades\n",
    "  thrust = sym.Matrix([0,0,thrust])\n",
    "\n",
    "  tau_phi = l*k*(-Wm2**2 + Wm4**2)\n",
    "  tau_theta = l*k*(-Wm1**2 + Wm3**2)\n",
    "  dWm = getRotorAccelerations(rotor_angular_velocity, commanded_rotor_torques) #Derivitives of rotor acceleration\n",
    "  [dWm1,dWm2,dWm3,dWm4] = dWm\n",
    "  Tm1 = -b*Wm1**2 - Im*dWm1\n",
    "  Tm2 = b*Wm2**2 + Im*dWm2\n",
    "  Tm3 = -b*Wm3**2 -Im*dWm3\n",
    "  Tm4 = b*Wm4**2 + Im*dWm4\n",
    "  tau_psi = sym.simplify(Tm1+Tm2+Tm3+Tm4)\n",
    "  tau = sym.Matrix([tau_phi, tau_theta, tau_psi])\n",
    "  return thrust, tau, dWm\n",
    "\n",
    "print(getRotorForces(rotorW,motorTorques))"
   ]
  },
  {
   "cell_type": "code",
   "execution_count": 6,
   "metadata": {
    "id": "aMcafc6D89l4"
   },
   "outputs": [
    {
     "data": {
      "text/latex": [
       "$\\displaystyle \\left[\\begin{matrix}v_{x}\\\\v_{y}\\\\v_{z}\\\\\\frac{k \\left(\\sin{\\left(\\phi \\right)} \\sin{\\left(\\psi \\right)} + \\sin{\\left(\\theta \\right)} \\cos{\\left(\\phi \\right)} \\cos{\\left(\\psi \\right)}\\right) \\left(W_{m1}^{2} + W_{m2}^{2} + W_{m3}^{2} + W_{m4}^{2}\\right)}{m}\\\\- \\frac{k \\left(\\sin{\\left(\\phi \\right)} \\cos{\\left(\\psi \\right)} - \\sin{\\left(\\psi \\right)} \\sin{\\left(\\theta \\right)} \\cos{\\left(\\phi \\right)}\\right) \\left(W_{m1}^{2} + W_{m2}^{2} + W_{m3}^{2} + W_{m4}^{2}\\right)}{m}\\\\\\frac{g m + k \\left(W_{m1}^{2} + W_{m2}^{2} + W_{m3}^{2} + W_{m4}^{2}\\right) \\cos{\\left(\\phi \\right)} \\cos{\\left(\\theta \\right)}}{m}\\\\\\omega_{\\phi}\\\\\\omega_{\\theta}\\\\\\omega_{\\psi}\\\\\\frac{- I_{xx} I_{yy} \\left(\\tau_{m1} - \\tau_{m2} + \\tau_{m3} - \\tau_{m4}\\right) \\cos{\\left(\\phi \\right)} \\tan{\\left(\\theta \\right)} - I_{xx} I_{zz} k l \\left(W_{m1}^{2} - W_{m3}^{2}\\right) \\sin{\\left(\\phi \\right)} \\tan{\\left(\\theta \\right)} - I_{yy} I_{zz} k l \\left(W_{m2}^{2} - W_{m4}^{2}\\right)}{I_{xx} I_{yy} I_{zz}}\\\\\\frac{I_{yy} \\left(\\tau_{m1} - \\tau_{m2} + \\tau_{m3} - \\tau_{m4}\\right) \\sin{\\left(\\phi \\right)} - I_{zz} k l \\left(W_{m1}^{2} - W_{m3}^{2}\\right) \\cos{\\left(\\phi \\right)}}{I_{yy} I_{zz}}\\\\\\frac{- I_{yy} \\left(\\tau_{m1} - \\tau_{m2} + \\tau_{m3} - \\tau_{m4}\\right) \\cos{\\left(\\phi \\right)} - I_{zz} k l \\left(W_{m1}^{2} - W_{m3}^{2}\\right) \\sin{\\left(\\phi \\right)}}{I_{yy} I_{zz} \\cos{\\left(\\theta \\right)}}\\\\\\frac{- W_{m1}^{2} b + \\tau_{m1}}{I_{m}}\\\\\\frac{- W_{m2}^{2} b + \\tau_{m2}}{I_{m}}\\\\\\frac{- W_{m3}^{2} b + \\tau_{m3}}{I_{m}}\\\\\\frac{- W_{m4}^{2} b + \\tau_{m4}}{I_{m}}\\end{matrix}\\right]$"
      ],
      "text/plain": [
       "Matrix([\n",
       "[                                                                                                                                                                              v_x],\n",
       "[                                                                                                                                                                              v_y],\n",
       "[                                                                                                                                                                              v_z],\n",
       "[                                                                                   k*(sin(phi)*sin(psi) + sin(theta)*cos(phi)*cos(psi))*(W_m1**2 + W_m2**2 + W_m3**2 + W_m4**2)/m],\n",
       "[                                                                                  -k*(sin(phi)*cos(psi) - sin(psi)*sin(theta)*cos(phi))*(W_m1**2 + W_m2**2 + W_m3**2 + W_m4**2)/m],\n",
       "[                                                                                                          (g*m + k*(W_m1**2 + W_m2**2 + W_m3**2 + W_m4**2)*cos(phi)*cos(theta))/m],\n",
       "[                                                                                                                                                                        omega_phi],\n",
       "[                                                                                                                                                                      omega_theta],\n",
       "[                                                                                                                                                                        omega_psi],\n",
       "[(-I_xx*I_yy*(tau_m1 - tau_m2 + tau_m3 - tau_m4)*cos(phi)*tan(theta) - I_xx*I_zz*k*l*(W_m1**2 - W_m3**2)*sin(phi)*tan(theta) - I_yy*I_zz*k*l*(W_m2**2 - W_m4**2))/(I_xx*I_yy*I_zz)],\n",
       "[                                                                          (I_yy*(tau_m1 - tau_m2 + tau_m3 - tau_m4)*sin(phi) - I_zz*k*l*(W_m1**2 - W_m3**2)*cos(phi))/(I_yy*I_zz)],\n",
       "[                                                              (-I_yy*(tau_m1 - tau_m2 + tau_m3 - tau_m4)*cos(phi) - I_zz*k*l*(W_m1**2 - W_m3**2)*sin(phi))/(I_yy*I_zz*cos(theta))],\n",
       "[                                                                                                                                                        (-W_m1**2*b + tau_m1)/I_m],\n",
       "[                                                                                                                                                        (-W_m2**2*b + tau_m2)/I_m],\n",
       "[                                                                                                                                                        (-W_m3**2*b + tau_m3)/I_m],\n",
       "[                                                                                                                                                        (-W_m4**2*b + tau_m4)/I_m]])"
      ]
     },
     "metadata": {},
     "output_type": "display_data"
    }
   ],
   "source": [
    "def f_true(positions, velocities, angles, angularVelocities, rotorW,commanded_motor_torques):\n",
    "  ## Rotation Matrices\n",
    "  RtoG, RAtoB = getRotationMatrices(angles)\n",
    "  RtoB = RtoG.T\n",
    "  RAtoG = sym.simplify(RAtoB.inv()) ## Rotate angular to global\n",
    "\n",
    "  #### Rotor Handling\n",
    "  ## Body frame\n",
    "  thrust, tau, dWm = getRotorForces(rotorW,commanded_motor_torques)\n",
    "  ## Converting to global frame\n",
    "  globalForcesThrust = sym.simplify(RtoG @ thrust)\n",
    "  ## Global frame\n",
    "  globalLinearAcceleration = sym.simplify((Fg + globalForcesThrust)/mass) #+ Drag term  #####SYMPLIFY MASSIVELY SLOWS DOWN COMPUTATION. REMOVE IF TOO SLOW\n",
    "  globalAngularAcceleration =  sym.simplify(RAtoG @ (I.inv() @ tau))\n",
    "\n",
    "\n",
    "  return [velocities, globalLinearAcceleration, angularVelocities, globalAngularAcceleration, dWm]\n",
    "derivitivesW = f_true(positions, velocities, angles, angularVelocities, rotorW, motorTorques)\n",
    "display(sym.Matrix(derivitivesW))"
   ]
  },
  {
   "cell_type": "code",
   "execution_count": 7,
   "metadata": {
    "id": "6-74y8SBf-mg"
   },
   "outputs": [],
   "source": [
    "derivitivesW2 = sym.Matrix(derivitivesW)\n",
    "k = 0.000196800   # Lift constant in newtons per radian**2\n",
    "b = 9.892246947623543e-06 # torque per radian ^2\n",
    "m = 0.6945 # Mass of the drone (kg)\n",
    "g = -9.81  # Acceleration due to gravity (m/s^2)\n",
    "l = 0.45/2. # Radius of rotor to COG\n",
    "I_xx = 0.01349  # Moment of inertia about x-axis\n",
    "I_yy = 0.01349  # Moment of inertia about y-axis\n",
    "I_zz = .02681 # Moment of inertia about z-axis\n",
    "I_m = 1.6817e-05 # Moment of inertia of the rotor\n",
    "derivitivesW2 = derivitivesW2.subs([(psi,0),(theta,0),(dz, 0), (dy,0), (Wx,0), (Wy,0), (T2, T1), (T3,T1), (T4,T1), (Wm2, Wm1), (Wm3, Wm1), (Wm4, Wm1)\n",
    "                                    ,(rotorLiftConstant,k),(rotorDragConstant,b),(mass, m), (gravity, g),(Ixx,I_xx), (Iyy, I_yy), (Izz,I_zz),(Im,I_m),])"
   ]
  },
  {
   "cell_type": "code",
   "execution_count": 8,
   "metadata": {
    "colab": {
     "base_uri": "https://localhost:8080/",
     "height": 343
    },
    "id": "3etkORoPbqAR",
    "outputId": "5aed3e03-d676-4e42-c016-36232961b2c5"
   },
   "outputs": [
    {
     "data": {
      "text/latex": [
       "$\\displaystyle \\left[\\begin{matrix}v_{x} - 0.5\\\\0\\\\0\\\\0\\\\- 0.00113347732181425 W_{m1}^{2} \\sin{\\left(\\phi \\right)} - 0.125\\\\0.00113347732181425 W_{m1}^{2} \\cos{\\left(\\phi \\right)} - 9.81\\\\0\\\\0\\\\\\omega_{\\psi} - 0.25\\\\0\\\\0\\\\0\\\\- 0.588228991355387 W_{m1}^{2} + 59463.6379853719 \\tau_{m1}\\\\- 0.588228991355387 W_{m1}^{2} + 59463.6379853719 \\tau_{m1}\\\\- 0.588228991355387 W_{m1}^{2} + 59463.6379853719 \\tau_{m1}\\\\- 0.588228991355387 W_{m1}^{2} + 59463.6379853719 \\tau_{m1}\\end{matrix}\\right]$"
      ],
      "text/plain": [
       "Matrix([\n",
       "[                                           v_x - 0.5],\n",
       "[                                                   0],\n",
       "[                                                   0],\n",
       "[                                                   0],\n",
       "[       -0.00113347732181425*W_m1**2*sin(phi) - 0.125],\n",
       "[         0.00113347732181425*W_m1**2*cos(phi) - 9.81],\n",
       "[                                                   0],\n",
       "[                                                   0],\n",
       "[                                    omega_psi - 0.25],\n",
       "[                                                   0],\n",
       "[                                                   0],\n",
       "[                                                   0],\n",
       "[-0.588228991355387*W_m1**2 + 59463.6379853719*tau_m1],\n",
       "[-0.588228991355387*W_m1**2 + 59463.6379853719*tau_m1],\n",
       "[-0.588228991355387*W_m1**2 + 59463.6379853719*tau_m1],\n",
       "[-0.588228991355387*W_m1**2 + 59463.6379853719*tau_m1]])"
      ]
     },
     "execution_count": 8,
     "metadata": {},
     "output_type": "execute_result"
    }
   ],
   "source": [
    "## Solving for exact solution to problem 2\n",
    "speed = 0.5\n",
    "radius = 2\n",
    "centripital_acceleration = speed**2 / radius\n",
    "centripital_acceleration\n",
    "\n",
    "## Yaw rate\n",
    "circumference = 2*sym.pi*radius\n",
    "time_per_loop = circumference/speed\n",
    "yawRate = 2*pi/time_per_loop\n",
    "\n",
    "desiredStateMatrix = sym.Matrix([speed,0,0, ## Velocity\n",
    "                                  0,centripital_acceleration,0, ## Acceleration\n",
    "                                  0,0,yawRate, ## Angular velocity\n",
    "                                  0,0,0, ## Angular acceleration\n",
    "                                  0,0,0,0 ## Motor Torque\n",
    "                                  ])\n",
    "\n",
    "sym.Matrix(derivitivesW2-desiredStateMatrix)"
   ]
  },
  {
   "cell_type": "code",
   "execution_count": 9,
   "metadata": {},
   "outputs": [],
   "source": [
    "circlesolution = sym.solve(derivitivesW2-desiredStateMatrix)"
   ]
  },
  {
   "cell_type": "code",
   "execution_count": 10,
   "metadata": {
    "id": "8wrpEf8Oo32D"
   },
   "outputs": [
    {
     "data": {
      "text/plain": [
       "[{W_m1: 93.0348609175189,\n",
       "  omega_psi: 0.250000000000000,\n",
       "  phi: -0.0127414103580744,\n",
       "  tau_m1: 0.0856221984935959,\n",
       "  v_x: 0.500000000000000}]"
      ]
     },
     "metadata": {},
     "output_type": "display_data"
    }
   ],
   "source": [
    "display((circlesolution))\n"
   ]
  },
  {
   "cell_type": "code",
   "execution_count": 11,
   "metadata": {},
   "outputs": [],
   "source": [
    "derivitivesW3 = sym.Matrix(derivitivesW)\n",
    "\n",
    "##INITIAL CONDITIONS\n",
    "derivitivesW3 = derivitivesW3.subs([(phi,0),(psi,0),(theta,0),(dz, 0),(dx,0), (dy,0),(rotorLiftConstant,k),(rotorDragConstant,b),(mass, m), (gravity, g),(Ixx,I_xx), (Iyy, I_yy), (Izz,I_zz),(Im,I_m),])"
   ]
  },
  {
   "cell_type": "code",
   "execution_count": 12,
   "metadata": {},
   "outputs": [
    {
     "data": {
      "text/latex": [
       "$\\displaystyle \\left[\\begin{matrix}0\\\\0\\\\0\\\\0\\\\0\\\\0.000283369330453564 W_{m1}^{2} + 0.000283369330453564 W_{m2}^{2} + 0.000283369330453564 W_{m3}^{2} + 0.000283369330453564 W_{m4}^{2} - 9.81\\\\\\omega_{\\phi}\\\\\\omega_{\\theta}\\\\\\omega_{\\psi}\\\\- 0.0145885841363973 l \\left(W_{m2}^{2} - W_{m4}^{2}\\right)\\\\- 0.0145885841363973 l \\left(W_{m1}^{2} - W_{m3}^{2}\\right)\\\\- 37.2995151063036 \\tau_{m1} + 37.2995151063036 \\tau_{m2} - 37.2995151063036 \\tau_{m3} + 37.2995151063036 \\tau_{m4}\\\\- 0.588228991355387 W_{m1}^{2} + 59463.6379853719 \\tau_{m1}\\\\- 0.588228991355387 W_{m2}^{2} + 59463.6379853719 \\tau_{m2}\\\\- 0.588228991355387 W_{m3}^{2} + 59463.6379853719 \\tau_{m3}\\\\- 0.588228991355387 W_{m4}^{2} + 59463.6379853719 \\tau_{m4}\\end{matrix}\\right]$"
      ],
      "text/plain": [
       "Matrix([\n",
       "[                                                                                                                               0],\n",
       "[                                                                                                                               0],\n",
       "[                                                                                                                               0],\n",
       "[                                                                                                                               0],\n",
       "[                                                                                                                               0],\n",
       "[0.000283369330453564*W_m1**2 + 0.000283369330453564*W_m2**2 + 0.000283369330453564*W_m3**2 + 0.000283369330453564*W_m4**2 - 9.81],\n",
       "[                                                                                                                       omega_phi],\n",
       "[                                                                                                                     omega_theta],\n",
       "[                                                                                                                       omega_psi],\n",
       "[                                                                                       -0.0145885841363973*l*(W_m2**2 - W_m4**2)],\n",
       "[                                                                                       -0.0145885841363973*l*(W_m1**2 - W_m3**2)],\n",
       "[                          -37.2995151063036*tau_m1 + 37.2995151063036*tau_m2 - 37.2995151063036*tau_m3 + 37.2995151063036*tau_m4],\n",
       "[                                                                            -0.588228991355387*W_m1**2 + 59463.6379853719*tau_m1],\n",
       "[                                                                            -0.588228991355387*W_m2**2 + 59463.6379853719*tau_m2],\n",
       "[                                                                            -0.588228991355387*W_m3**2 + 59463.6379853719*tau_m3],\n",
       "[                                                                            -0.588228991355387*W_m4**2 + 59463.6379853719*tau_m4]])"
      ]
     },
     "execution_count": 12,
     "metadata": {},
     "output_type": "execute_result"
    }
   ],
   "source": [
    "## Desired state\n",
    "desiredStateMatrix = sym.Matrix([0,0,0,\n",
    "                                  0,0,0,\n",
    "                                  0,0,0,\n",
    "                                  0,0,0,\n",
    "                                  0,0,0,0\n",
    "                                  ])\n",
    "\n",
    "sym.Matrix(derivitivesW3-desiredStateMatrix)"
   ]
  },
  {
   "cell_type": "code",
   "execution_count": 13,
   "metadata": {},
   "outputs": [],
   "source": [
    "hoverSolution = sym.solve(derivitivesW3-desiredStateMatrix)"
   ]
  },
  {
   "cell_type": "code",
   "execution_count": 15,
   "metadata": {},
   "outputs": [
    {
     "data": {
      "text/plain": [
       "[{W_m1: 93.0310849898583,\n",
       "  W_m2: 93.0310849898583,\n",
       "  W_m3: 93.0310849898583,\n",
       "  W_m4: 93.0310849898583,\n",
       "  omega_phi: 0.0,\n",
       "  omega_psi: 0.0,\n",
       "  omega_theta: 0.0,\n",
       "  tau_m1: 0.0856152484823067,\n",
       "  tau_m2: 0.0856152484823067,\n",
       "  tau_m3: 0.0856152484823067,\n",
       "  tau_m4: 0.0856152484823067}]"
      ]
     },
     "metadata": {},
     "output_type": "display_data"
    }
   ],
   "source": [
    "display((hoverSolution))"
   ]
  },
  {
   "cell_type": "code",
   "execution_count": null,
   "metadata": {},
   "outputs": [],
   "source": []
  },
  {
   "cell_type": "code",
   "execution_count": null,
   "metadata": {},
   "outputs": [],
   "source": []
  }
 ],
 "metadata": {
  "colab": {
   "provenance": []
  },
  "kernelspec": {
   "display_name": "Python 3 (ipykernel)",
   "language": "python",
   "name": "python3"
  },
  "language_info": {
   "codemirror_mode": {
    "name": "ipython",
    "version": 3
   },
   "file_extension": ".py",
   "mimetype": "text/x-python",
   "name": "python",
   "nbconvert_exporter": "python",
   "pygments_lexer": "ipython3",
   "version": "3.12.3"
  }
 },
 "nbformat": 4,
 "nbformat_minor": 4
}
